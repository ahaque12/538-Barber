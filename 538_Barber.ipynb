{
  "nbformat": 4,
  "nbformat_minor": 0,
  "metadata": {
    "colab": {
      "name": "538 Barber.ipynb",
      "provenance": [],
      "authorship_tag": "ABX9TyME+U6yE2J2rMH2m2CDH7pX",
      "include_colab_link": true
    },
    "kernelspec": {
      "name": "python3",
      "display_name": "Python 3"
    }
  },
  "cells": [
    {
      "cell_type": "markdown",
      "metadata": {
        "id": "view-in-github",
        "colab_type": "text"
      },
      "source": [
        "<a href=\"https://colab.research.google.com/github/ahaque12/538-Barber/blob/master/538_Barber.ipynb\" target=\"_parent\"><img src=\"https://colab.research.google.com/assets/colab-badge.svg\" alt=\"Open In Colab\"/></a>"
      ]
    },
    {
      "cell_type": "markdown",
      "metadata": {
        "id": "Fqoi1ifFBSZl",
        "colab_type": "text"
      },
      "source": [
        "# 538 Barber\n",
        "\n",
        "https://fivethirtyeight.com/features/can-you-get-a-haircut-already/\n",
        "\n",
        "From Dave Moran comes a question we’ve all faced at some point when waiting in line for a haircut:\n",
        "\n",
        "At your local barbershop, there are always four barbers working simultaneously. Each haircut takes exactly 15 minutes, and there’s almost always one or more customers waiting their turn on a first-come, first-served basis.\n",
        "\n",
        "Being a regular, you prefer to get your hair cut by the owner, Tiffany. If one of the other three chairs opens up, and it’s your turn, you’ll say, “No thanks, I’m waiting for Tiffany.” The person behind you in line will then be offered the open chair, and you’ll remain at the front of the line until Tiffany is available.\n",
        "\n",
        "Unfortunately, you’re not alone in requesting Tiffany — a quarter of the other customers will hold out for Tiffany, while no one will hold out for any of the other barbers.\n",
        "\n",
        "One Friday morning, you arrive at the barber shop to see that all four barbers are cutting hair, and there is one customer waiting. You have no idea how far along any of the barbers is in their haircuts, and you don’t know whether or not the customer in line will hold out for Tiffany.\n",
        "\n",
        "What is the expected wait time for getting a haircut from Tiffany?"
      ]
    },
    {
      "cell_type": "code",
      "metadata": {
        "id": "HqT2I3KNBK-7",
        "colab_type": "code",
        "colab": {}
      },
      "source": [
        "%matplotlib inline\n",
        "\n",
        "import numpy as np\n",
        "import pandas as pd\n",
        "import matplotlib.pyplot as plt\n",
        "import seaborn as sns\n",
        "\n",
        "plt.style.use('ggplot')"
      ],
      "execution_count": 0,
      "outputs": []
    },
    {
      "cell_type": "markdown",
      "metadata": {
        "id": "ONWmZHssDDed",
        "colab_type": "text"
      },
      "source": [
        "There are three scenarios to take note of:\n",
        "1. If the person waiting on line is holding out for Tiffany then you have to wait for Tiffany to complete her haircut and then wait 15 minutes for her to complete the 2nd haircut.\n",
        "2. If the person waiting on line is not holding out for Tiffany then if Tiffany is first to finish her haircut you will have to wait for the duration of the first haircut and an additional 15 minutes for the 2nd haircut.\n",
        "3. If the person waiting on line is not holding out for Tiffany and Tiffany is not first to finish her haircut you will have to wait for the duration of Tiffany's haircut.\n",
        "\n",
        "One way to approach the problem is through monte-carlo simulation. We simulate a large number of scenarios for where each barber is in their respective haircut."
      ]
    },
    {
      "cell_type": "code",
      "metadata": {
        "id": "OWZA5mEkBsKT",
        "colab_type": "code",
        "outputId": "c27a7d13-6730-4997-d74a-9a62c597861a",
        "colab": {
          "base_uri": "https://localhost:8080/",
          "height": 102
        }
      },
      "source": [
        "HAIRCUT_TIME = 15\n",
        "\n",
        "def start_setting(scenarios=1000):\n",
        "  \"\"\"Generate starting scenario.\n",
        "\n",
        "  Starting scenario for how long each barber\n",
        "  has left for their haircuts. Each row represents\n",
        "  a different scenario. The first column\n",
        "  in the array is Tiffany. A scenario of\n",
        "  [2, 13, 5, 8] implies Tiffany is 2 minutes left for\n",
        "  her haircut and the other barbers have 13, 15, and 8\n",
        "  minutes left respectively.\n",
        "\n",
        "  Args:\n",
        "    scenarios: int, optional (default=1000)\n",
        "      Number of scenarios to generate\n",
        "\n",
        "  Returns:\n",
        "    setting: np.array\n",
        "      Positions of each barber.\n",
        "  \"\"\"\n",
        "  return np.random.random((scenarios, 4))*15\n",
        "\n",
        "start_setting(5)"
      ],
      "execution_count": 10,
      "outputs": [
        {
          "output_type": "execute_result",
          "data": {
            "text/plain": [
              "array([[12.74457137,  6.18926885, 10.21996507,  2.08585129],\n",
              "       [ 8.19148968, 12.91333771,  9.95049319,  1.09279886],\n",
              "       [11.39016022,  7.08265754,  3.91320088, 14.95237528],\n",
              "       [13.81580759,  7.76243218,  1.9172258 , 13.48818229],\n",
              "       [12.44217577, 10.06905142,  0.78857871, 14.63017698]])"
            ]
          },
          "metadata": {
            "tags": []
          },
          "execution_count": 10
        }
      ]
    },
    {
      "cell_type": "code",
      "metadata": {
        "id": "dDQQgo51CWLS",
        "colab_type": "code",
        "colab": {}
      },
      "source": [
        "# Number of scenarios\n",
        "N = 10000000\n",
        "\n",
        "trials = start_setting(N)"
      ],
      "execution_count": 0,
      "outputs": []
    },
    {
      "cell_type": "markdown",
      "metadata": {
        "id": "xykaiFKYHeSr",
        "colab_type": "text"
      },
      "source": [
        "If the person on line will hold out for Tiffany they are expected to wait until Tiffany finishes her haircut regardless of when the other barbers finish. The expected wait time will then be $15 + E[$Time taken for Tiffany$]$ which is 22.5. This is confirmed in the simulation."
      ]
    },
    {
      "cell_type": "code",
      "metadata": {
        "id": "sL3GrnRdHcn_",
        "colab_type": "code",
        "outputId": "c99fe8c3-6a18-4512-ef32-8578ce3eb2ce",
        "colab": {
          "base_uri": "https://localhost:8080/",
          "height": 34
        }
      },
      "source": [
        "# Average wait time if person on line is waiting for Tiffany\n",
        "scen1_avg = 15 + trials[:, 0].mean()\n",
        "scen1_avg"
      ],
      "execution_count": 12,
      "outputs": [
        {
          "output_type": "execute_result",
          "data": {
            "text/plain": [
              "22.498310466696164"
            ]
          },
          "metadata": {
            "tags": []
          },
          "execution_count": 12
        }
      ]
    },
    {
      "cell_type": "markdown",
      "metadata": {
        "id": "UVNKBFeHIB6d",
        "colab_type": "text"
      },
      "source": [
        "If the person on line will go to any barber then we can consider scenarios #2 and #3 separately. When Tiffany finishes first the wait time is 15 minutes plus the time it takes for Tiffany to finish. If Tiffany does not finish first then we wait the time taken for Tiffany to complete the haircut."
      ]
    },
    {
      "cell_type": "code",
      "metadata": {
        "id": "lbeKlfAKIBBX",
        "colab_type": "code",
        "colab": {}
      },
      "source": [
        "# Calculate time taken when the person on line is agnostic to any barber.\n",
        "time_taken = np.zeros(N)\n",
        "\n",
        "# Identify times when Tiffany finishes first\n",
        "tiffany_first_ix = trials[:, 0] == np.min(trials, axis=1)\n",
        "\n",
        "time_taken[tiffany_first_ix] = trials[tiffany_first_ix, 0] + 15\n",
        "time_taken[~tiffany_first_ix] = trials[~tiffany_first_ix, 0]"
      ],
      "execution_count": 0,
      "outputs": []
    },
    {
      "cell_type": "code",
      "metadata": {
        "id": "jNmgM5fWE4kt",
        "colab_type": "code",
        "outputId": "c8a7cca4-1ea6-45a6-9386-ea408695558d",
        "colab": {
          "base_uri": "https://localhost:8080/",
          "height": 299
        }
      },
      "source": [
        "sns.distplot(time_taken)\n",
        "plt.xlabel(\"Time (minutes)\")\n",
        "plt.title(\"Distribution of Time Waiting if Person is Agnostic\");"
      ],
      "execution_count": 14,
      "outputs": [
        {
          "output_type": "display_data",
          "data": {
            "image/png": "[encoded data removed]",
            "text/plain": [
              "<Figure size 432x288 with 1 Axes>"
            ]
          },
          "metadata": {
            "tags": []
          }
        }
      ]
    },
    {
      "cell_type": "code",
      "metadata": {
        "id": "xbRMYbsQFHwX",
        "colab_type": "code",
        "outputId": "a2948100-92c5-4ba0-f843-b5f88f19c7b1",
        "colab": {
          "base_uri": "https://localhost:8080/",
          "height": 34
        }
      },
      "source": [
        "# Average time taken if person is agnostic\n",
        "scen23_avg = time_taken.mean()\n",
        "scen23_avg"
      ],
      "execution_count": 15,
      "outputs": [
        {
          "output_type": "execute_result",
          "data": {
            "text/plain": [
              "11.252618466696156"
            ]
          },
          "metadata": {
            "tags": []
          },
          "execution_count": 15
        }
      ]
    },
    {
      "cell_type": "code",
      "metadata": {
        "id": "7Kw2ulcrGCMP",
        "colab_type": "code",
        "outputId": "d1a4455e-6dd1-4206-bd2a-1122745873ea",
        "colab": {
          "base_uri": "https://localhost:8080/",
          "height": 34
        }
      },
      "source": [
        "# Total expected waiting time\n",
        ".25*scen1_avg + .75*scen23_avg"
      ],
      "execution_count": 16,
      "outputs": [
        {
          "output_type": "execute_result",
          "data": {
            "text/plain": [
              "14.064041466696157"
            ]
          },
          "metadata": {
            "tags": []
          },
          "execution_count": 16
        }
      ]
    },
    {
      "cell_type": "markdown",
      "metadata": {
        "id": "8Uk8qnqSJ2zd",
        "colab_type": "text"
      },
      "source": [
        "The expected waiting time is roughly 14.06 minutes."
      ]
    }
  ]
}